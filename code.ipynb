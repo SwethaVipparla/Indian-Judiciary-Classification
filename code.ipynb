{
 "cells": [
  {
   "cell_type": "code",
   "execution_count": 40,
   "metadata": {},
   "outputs": [],
   "source": [
    "# Import libraries\n",
    "import glob\n",
    "import pandas as pd\n",
    "import dask.dataframe as dd\n",
    "\n",
    "cases = pd.concat([pd.read_csv(f) for f in glob.glob('./csv/cases/*.csv') if int(f[18:22]) > 2015], ignore_index = True)"
   ]
  },
  {
   "cell_type": "code",
   "execution_count": 41,
   "metadata": {},
   "outputs": [
    {
     "data": {
      "text/html": [
       "<div>\n",
       "<style scoped>\n",
       "    .dataframe tbody tr th:only-of-type {\n",
       "        vertical-align: middle;\n",
       "    }\n",
       "\n",
       "    .dataframe tbody tr th {\n",
       "        vertical-align: top;\n",
       "    }\n",
       "\n",
       "    .dataframe thead th {\n",
       "        text-align: right;\n",
       "    }\n",
       "</style>\n",
       "<table border=\"1\" class=\"dataframe\">\n",
       "  <thead>\n",
       "    <tr style=\"text-align: right;\">\n",
       "      <th></th>\n",
       "      <th>ddl_case_id</th>\n",
       "      <th>year</th>\n",
       "      <th>state_code</th>\n",
       "      <th>dist_code</th>\n",
       "      <th>court_no</th>\n",
       "      <th>cino</th>\n",
       "      <th>judge_position</th>\n",
       "      <th>female_defendant</th>\n",
       "      <th>female_petitioner</th>\n",
       "      <th>female_adv_def</th>\n",
       "      <th>female_adv_pet</th>\n",
       "      <th>type_name</th>\n",
       "      <th>purpose_name</th>\n",
       "      <th>disp_name</th>\n",
       "      <th>date_of_filing</th>\n",
       "      <th>date_of_decision</th>\n",
       "      <th>date_first_list</th>\n",
       "      <th>date_last_list</th>\n",
       "      <th>date_next_list</th>\n",
       "    </tr>\n",
       "  </thead>\n",
       "  <tbody>\n",
       "    <tr>\n",
       "      <th>0</th>\n",
       "      <td>01-01-01-201900000012016</td>\n",
       "      <td>2016</td>\n",
       "      <td>1</td>\n",
       "      <td>1</td>\n",
       "      <td>1</td>\n",
       "      <td>MHNB030000032016</td>\n",
       "      <td>chief judicial magistrate</td>\n",
       "      <td>0 male</td>\n",
       "      <td>0 male</td>\n",
       "      <td>-9999</td>\n",
       "      <td>0</td>\n",
       "      <td>1940.0</td>\n",
       "      <td>767.0</td>\n",
       "      <td>26</td>\n",
       "      <td>2016-01-02</td>\n",
       "      <td>2016-02-16</td>\n",
       "      <td>2016-01-02</td>\n",
       "      <td>2016-02-16</td>\n",
       "      <td>2016-02-16</td>\n",
       "    </tr>\n",
       "    <tr>\n",
       "      <th>1</th>\n",
       "      <td>01-01-01-201900000022016</td>\n",
       "      <td>2016</td>\n",
       "      <td>1</td>\n",
       "      <td>1</td>\n",
       "      <td>1</td>\n",
       "      <td>MHNB030000042016</td>\n",
       "      <td>chief judicial magistrate</td>\n",
       "      <td>0 male</td>\n",
       "      <td>0 male</td>\n",
       "      <td>-9999</td>\n",
       "      <td>0</td>\n",
       "      <td>1940.0</td>\n",
       "      <td>767.0</td>\n",
       "      <td>26</td>\n",
       "      <td>2016-01-02</td>\n",
       "      <td>2016-02-16</td>\n",
       "      <td>2016-01-02</td>\n",
       "      <td>2016-02-16</td>\n",
       "      <td>2016-02-16</td>\n",
       "    </tr>\n",
       "    <tr>\n",
       "      <th>2</th>\n",
       "      <td>01-01-01-201900000032016</td>\n",
       "      <td>2016</td>\n",
       "      <td>1</td>\n",
       "      <td>1</td>\n",
       "      <td>1</td>\n",
       "      <td>MHNB030000052016</td>\n",
       "      <td>chief judicial magistrate</td>\n",
       "      <td>0 male</td>\n",
       "      <td>1 female</td>\n",
       "      <td>-9999</td>\n",
       "      <td>0</td>\n",
       "      <td>1940.0</td>\n",
       "      <td>4878.0</td>\n",
       "      <td>43</td>\n",
       "      <td>2016-01-02</td>\n",
       "      <td>2016-02-13</td>\n",
       "      <td>2016-01-02</td>\n",
       "      <td>2016-02-13</td>\n",
       "      <td>2016-02-13</td>\n",
       "    </tr>\n",
       "    <tr>\n",
       "      <th>3</th>\n",
       "      <td>01-01-01-201900000042016</td>\n",
       "      <td>2016</td>\n",
       "      <td>1</td>\n",
       "      <td>1</td>\n",
       "      <td>1</td>\n",
       "      <td>MHNB030000062016</td>\n",
       "      <td>chief judicial magistrate</td>\n",
       "      <td>0 male</td>\n",
       "      <td>0 male</td>\n",
       "      <td>-9999</td>\n",
       "      <td>1</td>\n",
       "      <td>1940.0</td>\n",
       "      <td>7430.0</td>\n",
       "      <td>23</td>\n",
       "      <td>2016-01-05</td>\n",
       "      <td>2017-06-07</td>\n",
       "      <td>2016-01-05</td>\n",
       "      <td>2017-06-07</td>\n",
       "      <td>2017-06-07</td>\n",
       "    </tr>\n",
       "    <tr>\n",
       "      <th>4</th>\n",
       "      <td>01-01-01-201900000052016</td>\n",
       "      <td>2016</td>\n",
       "      <td>1</td>\n",
       "      <td>1</td>\n",
       "      <td>1</td>\n",
       "      <td>MHNB030000072016</td>\n",
       "      <td>chief judicial magistrate</td>\n",
       "      <td>0 male</td>\n",
       "      <td>0 male</td>\n",
       "      <td>-9999</td>\n",
       "      <td>0</td>\n",
       "      <td>1940.0</td>\n",
       "      <td>5251.0</td>\n",
       "      <td>26</td>\n",
       "      <td>2016-01-06</td>\n",
       "      <td>2016-02-18</td>\n",
       "      <td>2016-01-06</td>\n",
       "      <td>2016-02-18</td>\n",
       "      <td>2016-02-18</td>\n",
       "    </tr>\n",
       "  </tbody>\n",
       "</table>\n",
       "</div>"
      ],
      "text/plain": [
       "                ddl_case_id  year  state_code  dist_code  court_no  \\\n",
       "0  01-01-01-201900000012016  2016           1          1         1   \n",
       "1  01-01-01-201900000022016  2016           1          1         1   \n",
       "2  01-01-01-201900000032016  2016           1          1         1   \n",
       "3  01-01-01-201900000042016  2016           1          1         1   \n",
       "4  01-01-01-201900000052016  2016           1          1         1   \n",
       "\n",
       "               cino             judge_position female_defendant  \\\n",
       "0  MHNB030000032016  chief judicial magistrate           0 male   \n",
       "1  MHNB030000042016  chief judicial magistrate           0 male   \n",
       "2  MHNB030000052016  chief judicial magistrate           0 male   \n",
       "3  MHNB030000062016  chief judicial magistrate           0 male   \n",
       "4  MHNB030000072016  chief judicial magistrate           0 male   \n",
       "\n",
       "  female_petitioner  female_adv_def  female_adv_pet  type_name  purpose_name  \\\n",
       "0            0 male           -9999               0     1940.0         767.0   \n",
       "1            0 male           -9999               0     1940.0         767.0   \n",
       "2          1 female           -9999               0     1940.0        4878.0   \n",
       "3            0 male           -9999               1     1940.0        7430.0   \n",
       "4            0 male           -9999               0     1940.0        5251.0   \n",
       "\n",
       "   disp_name date_of_filing date_of_decision date_first_list date_last_list  \\\n",
       "0         26     2016-01-02       2016-02-16      2016-01-02     2016-02-16   \n",
       "1         26     2016-01-02       2016-02-16      2016-01-02     2016-02-16   \n",
       "2         43     2016-01-02       2016-02-13      2016-01-02     2016-02-13   \n",
       "3         23     2016-01-05       2017-06-07      2016-01-05     2017-06-07   \n",
       "4         26     2016-01-06       2016-02-18      2016-01-06     2016-02-18   \n",
       "\n",
       "  date_next_list  \n",
       "0     2016-02-16  \n",
       "1     2016-02-16  \n",
       "2     2016-02-13  \n",
       "3     2017-06-07  \n",
       "4     2016-02-18  "
      ]
     },
     "execution_count": 41,
     "metadata": {},
     "output_type": "execute_result"
    }
   ],
   "source": [
    "cases.head()"
   ]
  },
  {
   "cell_type": "code",
   "execution_count": 45,
   "metadata": {},
   "outputs": [],
   "source": [
    "cases_pre = cases    \n",
    "cases_pre = cases_pre.drop(['date_first_list', 'date_last_list', 'date_next_list', 'cino'], axis=1)"
   ]
  },
  {
   "cell_type": "code",
   "execution_count": 28,
   "metadata": {},
   "outputs": [
    {
     "data": {
      "text/html": [
       "<div>\n",
       "<style scoped>\n",
       "    .dataframe tbody tr th:only-of-type {\n",
       "        vertical-align: middle;\n",
       "    }\n",
       "\n",
       "    .dataframe tbody tr th {\n",
       "        vertical-align: top;\n",
       "    }\n",
       "\n",
       "    .dataframe thead th {\n",
       "        text-align: right;\n",
       "    }\n",
       "</style>\n",
       "<table border=\"1\" class=\"dataframe\">\n",
       "  <thead>\n",
       "    <tr style=\"text-align: right;\">\n",
       "      <th></th>\n",
       "      <th>ddl_case_id</th>\n",
       "      <th>year</th>\n",
       "      <th>state_code</th>\n",
       "      <th>dist_code</th>\n",
       "      <th>court_no</th>\n",
       "      <th>judge_position</th>\n",
       "      <th>female_defendant</th>\n",
       "      <th>female_petitioner</th>\n",
       "      <th>female_adv_def</th>\n",
       "      <th>female_adv_pet</th>\n",
       "      <th>type_name</th>\n",
       "      <th>purpose_name</th>\n",
       "      <th>disp_name</th>\n",
       "      <th>date_of_filing</th>\n",
       "      <th>date_of_decision</th>\n",
       "    </tr>\n",
       "  </thead>\n",
       "  <tbody>\n",
       "    <tr>\n",
       "      <th>0</th>\n",
       "      <td>01-01-01-201900000012016</td>\n",
       "      <td>2016.0</td>\n",
       "      <td>1.0</td>\n",
       "      <td>1.0</td>\n",
       "      <td>1.0</td>\n",
       "      <td>chief judicial magistrate</td>\n",
       "      <td>0 male</td>\n",
       "      <td>0 male</td>\n",
       "      <td>-9999.0</td>\n",
       "      <td>0.0</td>\n",
       "      <td>1940.0</td>\n",
       "      <td>767.0</td>\n",
       "      <td>26.0</td>\n",
       "      <td>2016-01-02</td>\n",
       "      <td>2016-02-16</td>\n",
       "    </tr>\n",
       "    <tr>\n",
       "      <th>1</th>\n",
       "      <td>01-01-01-201900000022016</td>\n",
       "      <td>2016.0</td>\n",
       "      <td>1.0</td>\n",
       "      <td>1.0</td>\n",
       "      <td>1.0</td>\n",
       "      <td>chief judicial magistrate</td>\n",
       "      <td>0 male</td>\n",
       "      <td>0 male</td>\n",
       "      <td>-9999.0</td>\n",
       "      <td>0.0</td>\n",
       "      <td>1940.0</td>\n",
       "      <td>767.0</td>\n",
       "      <td>26.0</td>\n",
       "      <td>2016-01-02</td>\n",
       "      <td>2016-02-16</td>\n",
       "    </tr>\n",
       "    <tr>\n",
       "      <th>2</th>\n",
       "      <td>01-01-01-201900000032016</td>\n",
       "      <td>2016.0</td>\n",
       "      <td>1.0</td>\n",
       "      <td>1.0</td>\n",
       "      <td>1.0</td>\n",
       "      <td>chief judicial magistrate</td>\n",
       "      <td>0 male</td>\n",
       "      <td>1 female</td>\n",
       "      <td>-9999.0</td>\n",
       "      <td>0.0</td>\n",
       "      <td>1940.0</td>\n",
       "      <td>4878.0</td>\n",
       "      <td>43.0</td>\n",
       "      <td>2016-01-02</td>\n",
       "      <td>2016-02-13</td>\n",
       "    </tr>\n",
       "    <tr>\n",
       "      <th>3</th>\n",
       "      <td>01-01-01-201900000042016</td>\n",
       "      <td>2016.0</td>\n",
       "      <td>1.0</td>\n",
       "      <td>1.0</td>\n",
       "      <td>1.0</td>\n",
       "      <td>chief judicial magistrate</td>\n",
       "      <td>0 male</td>\n",
       "      <td>0 male</td>\n",
       "      <td>-9999.0</td>\n",
       "      <td>1.0</td>\n",
       "      <td>1940.0</td>\n",
       "      <td>7430.0</td>\n",
       "      <td>23.0</td>\n",
       "      <td>2016-01-05</td>\n",
       "      <td>2017-06-07</td>\n",
       "    </tr>\n",
       "    <tr>\n",
       "      <th>4</th>\n",
       "      <td>01-01-01-201900000052016</td>\n",
       "      <td>2016.0</td>\n",
       "      <td>1.0</td>\n",
       "      <td>1.0</td>\n",
       "      <td>1.0</td>\n",
       "      <td>chief judicial magistrate</td>\n",
       "      <td>0 male</td>\n",
       "      <td>0 male</td>\n",
       "      <td>-9999.0</td>\n",
       "      <td>0.0</td>\n",
       "      <td>1940.0</td>\n",
       "      <td>5251.0</td>\n",
       "      <td>26.0</td>\n",
       "      <td>2016-01-06</td>\n",
       "      <td>2016-02-18</td>\n",
       "    </tr>\n",
       "  </tbody>\n",
       "</table>\n",
       "</div>"
      ],
      "text/plain": [
       "                ddl_case_id    year  state_code  dist_code  court_no  \\\n",
       "0  01-01-01-201900000012016  2016.0         1.0        1.0       1.0   \n",
       "1  01-01-01-201900000022016  2016.0         1.0        1.0       1.0   \n",
       "2  01-01-01-201900000032016  2016.0         1.0        1.0       1.0   \n",
       "3  01-01-01-201900000042016  2016.0         1.0        1.0       1.0   \n",
       "4  01-01-01-201900000052016  2016.0         1.0        1.0       1.0   \n",
       "\n",
       "              judge_position female_defendant female_petitioner  \\\n",
       "0  chief judicial magistrate           0 male            0 male   \n",
       "1  chief judicial magistrate           0 male            0 male   \n",
       "2  chief judicial magistrate           0 male          1 female   \n",
       "3  chief judicial magistrate           0 male            0 male   \n",
       "4  chief judicial magistrate           0 male            0 male   \n",
       "\n",
       "   female_adv_def  female_adv_pet  type_name  purpose_name  disp_name  \\\n",
       "0         -9999.0             0.0     1940.0         767.0       26.0   \n",
       "1         -9999.0             0.0     1940.0         767.0       26.0   \n",
       "2         -9999.0             0.0     1940.0        4878.0       43.0   \n",
       "3         -9999.0             1.0     1940.0        7430.0       23.0   \n",
       "4         -9999.0             0.0     1940.0        5251.0       26.0   \n",
       "\n",
       "  date_of_filing date_of_decision  \n",
       "0     2016-01-02       2016-02-16  \n",
       "1     2016-01-02       2016-02-16  \n",
       "2     2016-01-02       2016-02-13  \n",
       "3     2016-01-05       2017-06-07  \n",
       "4     2016-01-06       2016-02-18  "
      ]
     },
     "execution_count": 28,
     "metadata": {},
     "output_type": "execute_result"
    }
   ],
   "source": [
    "cases_pre.head()"
   ]
  },
  {
   "cell_type": "code",
   "execution_count": 48,
   "metadata": {},
   "outputs": [
    {
     "name": "stdout",
     "output_type": "stream",
     "text": [
      "(38139072, 15)\n"
     ]
    }
   ],
   "source": [
    "print(cases_pre.shape)"
   ]
  },
  {
   "cell_type": "code",
   "execution_count": 50,
   "metadata": {},
   "outputs": [
    {
     "name": "stdout",
     "output_type": "stream",
     "text": [
      "521\n"
     ]
    }
   ],
   "source": [
    "# find number of unique judge_positions values\n",
    "print(cases_pre.judge_position.nunique())"
   ]
  },
  {
   "cell_type": "code",
   "execution_count": 51,
   "metadata": {},
   "outputs": [],
   "source": [
    "cases_pre['judge_position'] = cases_pre['judge_position'].astype('category')"
   ]
  },
  {
   "cell_type": "code",
   "execution_count": 52,
   "metadata": {},
   "outputs": [
    {
     "data": {
      "text/plain": [
       "Index                       128\n",
       "ddl_case_id          3089264832\n",
       "year                  305112576\n",
       "state_code            305112576\n",
       "dist_code             305112576\n",
       "court_no              305112576\n",
       "judge_position         76337880\n",
       "female_defendant     2472063909\n",
       "female_petitioner    2553190574\n",
       "female_adv_def        305112576\n",
       "female_adv_pet        305112576\n",
       "type_name             305112576\n",
       "purpose_name          305112576\n",
       "disp_name             305112576\n",
       "date_of_filing       2555317824\n",
       "date_of_decision     2061557774\n",
       "dtype: int64"
      ]
     },
     "execution_count": 52,
     "metadata": {},
     "output_type": "execute_result"
    }
   ],
   "source": [
    "cases_pre.memory_usage(deep=True)"
   ]
  },
  {
   "cell_type": "code",
   "execution_count": 54,
   "metadata": {},
   "outputs": [],
   "source": [
    "cases_pre = cases_pre.drop_duplicates()"
   ]
  },
  {
   "cell_type": "code",
   "execution_count": 56,
   "metadata": {},
   "outputs": [],
   "source": [
    "# downcast the integer and float columns\n",
    "\n",
    "cases_pre[['year', 'state_code', 'dist_code', 'court_no', 'disp_name']] = cases_pre[['year', 'state_code', 'dist_code', 'court_no', 'disp_name']].apply(pd.to_numeric, downcast='unsigned')\n",
    "cases_pre[['type_name', 'purpose_name']] = cases_pre[['type_name', 'purpose_name']].apply(pd.to_numeric, downcast='float')\n"
   ]
  },
  {
   "cell_type": "code",
   "execution_count": 57,
   "metadata": {},
   "outputs": [
    {
     "data": {
      "text/plain": [
       "Index                 305112576\n",
       "ddl_case_id          3089264832\n",
       "year                   76278144\n",
       "state_code             38139072\n",
       "dist_code              38139072\n",
       "court_no               38139072\n",
       "judge_position         76337880\n",
       "female_defendant     2472063909\n",
       "female_petitioner    2553190574\n",
       "female_adv_def        305112576\n",
       "female_adv_pet        305112576\n",
       "type_name             152556288\n",
       "purpose_name          152556288\n",
       "disp_name              38139072\n",
       "date_of_filing       2555317824\n",
       "date_of_decision     2061557774\n",
       "dtype: int64"
      ]
     },
     "execution_count": 57,
     "metadata": {},
     "output_type": "execute_result"
    }
   ],
   "source": [
    "cases_pre.memory_usage(deep=True)"
   ]
  },
  {
   "cell_type": "code",
   "execution_count": 59,
   "metadata": {},
   "outputs": [],
   "source": [
    "cases_pre = cases_pre.drop(['date_of_filing', 'date_of_decision'], axis=1)"
   ]
  },
  {
   "cell_type": "code",
   "execution_count": 68,
   "metadata": {},
   "outputs": [],
   "source": [
    "cases_pre['female_defendant'] = cases_pre['female_defendant'].str.replace('[a-zA-Z]', '').astype('int')\n",
    "cases_pre['female_petitioner'] = cases_pre['female_petitioner'].str.replace('[a-zA-Z]', '').astype('int')"
   ]
  },
  {
   "cell_type": "code",
   "execution_count": 66,
   "metadata": {},
   "outputs": [
    {
     "data": {
      "text/html": [
       "<div>\n",
       "<style scoped>\n",
       "    .dataframe tbody tr th:only-of-type {\n",
       "        vertical-align: middle;\n",
       "    }\n",
       "\n",
       "    .dataframe tbody tr th {\n",
       "        vertical-align: top;\n",
       "    }\n",
       "\n",
       "    .dataframe thead th {\n",
       "        text-align: right;\n",
       "    }\n",
       "</style>\n",
       "<table border=\"1\" class=\"dataframe\">\n",
       "  <thead>\n",
       "    <tr style=\"text-align: right;\">\n",
       "      <th></th>\n",
       "      <th>ddl_case_id</th>\n",
       "      <th>year</th>\n",
       "      <th>state_code</th>\n",
       "      <th>dist_code</th>\n",
       "      <th>court_no</th>\n",
       "      <th>judge_position</th>\n",
       "      <th>female_defendant</th>\n",
       "      <th>female_petitioner</th>\n",
       "      <th>female_adv_def</th>\n",
       "      <th>female_adv_pet</th>\n",
       "      <th>type_name</th>\n",
       "      <th>purpose_name</th>\n",
       "      <th>disp_name</th>\n",
       "    </tr>\n",
       "  </thead>\n",
       "  <tbody>\n",
       "    <tr>\n",
       "      <th>0</th>\n",
       "      <td>01-01-01-201900000012016</td>\n",
       "      <td>2016</td>\n",
       "      <td>1</td>\n",
       "      <td>1</td>\n",
       "      <td>1</td>\n",
       "      <td>chief judicial magistrate</td>\n",
       "      <td>0</td>\n",
       "      <td>0</td>\n",
       "      <td>-9999</td>\n",
       "      <td>0</td>\n",
       "      <td>1940.0</td>\n",
       "      <td>767.0</td>\n",
       "      <td>26</td>\n",
       "    </tr>\n",
       "    <tr>\n",
       "      <th>1</th>\n",
       "      <td>01-01-01-201900000022016</td>\n",
       "      <td>2016</td>\n",
       "      <td>1</td>\n",
       "      <td>1</td>\n",
       "      <td>1</td>\n",
       "      <td>chief judicial magistrate</td>\n",
       "      <td>0</td>\n",
       "      <td>0</td>\n",
       "      <td>-9999</td>\n",
       "      <td>0</td>\n",
       "      <td>1940.0</td>\n",
       "      <td>767.0</td>\n",
       "      <td>26</td>\n",
       "    </tr>\n",
       "    <tr>\n",
       "      <th>2</th>\n",
       "      <td>01-01-01-201900000032016</td>\n",
       "      <td>2016</td>\n",
       "      <td>1</td>\n",
       "      <td>1</td>\n",
       "      <td>1</td>\n",
       "      <td>chief judicial magistrate</td>\n",
       "      <td>0</td>\n",
       "      <td>1</td>\n",
       "      <td>-9999</td>\n",
       "      <td>0</td>\n",
       "      <td>1940.0</td>\n",
       "      <td>4878.0</td>\n",
       "      <td>43</td>\n",
       "    </tr>\n",
       "    <tr>\n",
       "      <th>3</th>\n",
       "      <td>01-01-01-201900000042016</td>\n",
       "      <td>2016</td>\n",
       "      <td>1</td>\n",
       "      <td>1</td>\n",
       "      <td>1</td>\n",
       "      <td>chief judicial magistrate</td>\n",
       "      <td>0</td>\n",
       "      <td>0</td>\n",
       "      <td>-9999</td>\n",
       "      <td>1</td>\n",
       "      <td>1940.0</td>\n",
       "      <td>7430.0</td>\n",
       "      <td>23</td>\n",
       "    </tr>\n",
       "    <tr>\n",
       "      <th>4</th>\n",
       "      <td>01-01-01-201900000052016</td>\n",
       "      <td>2016</td>\n",
       "      <td>1</td>\n",
       "      <td>1</td>\n",
       "      <td>1</td>\n",
       "      <td>chief judicial magistrate</td>\n",
       "      <td>0</td>\n",
       "      <td>0</td>\n",
       "      <td>-9999</td>\n",
       "      <td>0</td>\n",
       "      <td>1940.0</td>\n",
       "      <td>5251.0</td>\n",
       "      <td>26</td>\n",
       "    </tr>\n",
       "  </tbody>\n",
       "</table>\n",
       "</div>"
      ],
      "text/plain": [
       "                ddl_case_id  year  state_code  dist_code  court_no  \\\n",
       "0  01-01-01-201900000012016  2016           1          1         1   \n",
       "1  01-01-01-201900000022016  2016           1          1         1   \n",
       "2  01-01-01-201900000032016  2016           1          1         1   \n",
       "3  01-01-01-201900000042016  2016           1          1         1   \n",
       "4  01-01-01-201900000052016  2016           1          1         1   \n",
       "\n",
       "              judge_position female_defendant female_petitioner  \\\n",
       "0  chief judicial magistrate               0                 0    \n",
       "1  chief judicial magistrate               0                 0    \n",
       "2  chief judicial magistrate               0                 1    \n",
       "3  chief judicial magistrate               0                 0    \n",
       "4  chief judicial magistrate               0                 0    \n",
       "\n",
       "   female_adv_def  female_adv_pet  type_name  purpose_name  disp_name  \n",
       "0           -9999               0     1940.0         767.0         26  \n",
       "1           -9999               0     1940.0         767.0         26  \n",
       "2           -9999               0     1940.0        4878.0         43  \n",
       "3           -9999               1     1940.0        7430.0         23  \n",
       "4           -9999               0     1940.0        5251.0         26  "
      ]
     },
     "execution_count": 66,
     "metadata": {},
     "output_type": "execute_result"
    }
   ],
   "source": [
    "cases_pre.head()"
   ]
  },
  {
   "cell_type": "code",
   "execution_count": 71,
   "metadata": {},
   "outputs": [],
   "source": [
    "# remove all rows with missing values\n",
    "cases_pre = cases_pre.dropna()\n",
    "\n",
    "# if the value of female_petitioner is -9999, remove the row\n",
    "cases_pre = cases_pre.loc[(cases_pre['female_adv_def'] != -9999) & (cases_pre['female_adv_def'] != -9998)]\n",
    "cases_pre = cases_pre.loc[(cases_pre['female_adv_pet'] != -9999) & (cases_pre['female_adv_pet'] != -9998)]\n",
    "cases_pre = cases_pre.loc[(cases_pre['female_defendant'] != -9999) & (cases_pre['female_defendant'] != -9998)]\n",
    "cases_pre = cases_pre.loc[(cases_pre['female_petitioner'] != -9999) & (cases_pre['female_petitioner'] != -9998)]\n"
   ]
  },
  {
   "cell_type": "code",
   "execution_count": 72,
   "metadata": {},
   "outputs": [
    {
     "data": {
      "text/plain": [
       "(637512, 13)"
      ]
     },
     "execution_count": 72,
     "metadata": {},
     "output_type": "execute_result"
    }
   ],
   "source": [
    "cases_pre.shape"
   ]
  },
  {
   "cell_type": "code",
   "execution_count": 37,
   "metadata": {},
   "outputs": [
    {
     "ename": "NameError",
     "evalue": "name 'acts_sections' is not defined",
     "output_type": "error",
     "traceback": [
      "\u001b[0;31m---------------------------------------------------------------------------\u001b[0m",
      "\u001b[0;31mNameError\u001b[0m                                 Traceback (most recent call last)",
      "Cell \u001b[0;32mIn [37], line 2\u001b[0m\n\u001b[1;32m      1\u001b[0m cases_pre \u001b[39m=\u001b[39m cases\n\u001b[0;32m----> 2\u001b[0m acts_sections_pre \u001b[39m=\u001b[39m acts_sections\n\u001b[1;32m      3\u001b[0m judges_pre \u001b[39m=\u001b[39m judges\n",
      "\u001b[0;31mNameError\u001b[0m: name 'acts_sections' is not defined"
     ]
    }
   ],
   "source": [
    "cases_pre = cases\n",
    "acts_sections_pre = acts_sections\n",
    "judges_pre = judges"
   ]
  },
  {
   "cell_type": "code",
   "execution_count": 8,
   "metadata": {},
   "outputs": [
    {
     "ename": "AttributeError",
     "evalue": "'TextFileReader' object has no attribute 'head'",
     "output_type": "error",
     "traceback": [
      "\u001b[0;31m---------------------------------------------------------------------------\u001b[0m",
      "\u001b[0;31mAttributeError\u001b[0m                            Traceback (most recent call last)",
      "Cell \u001b[0;32mIn [8], line 1\u001b[0m\n\u001b[0;32m----> 1\u001b[0m acts_sections\u001b[39m.\u001b[39;49mhead()\n",
      "\u001b[0;31mAttributeError\u001b[0m: 'TextFileReader' object has no attribute 'head'"
     ]
    }
   ],
   "source": [
    "acts_sections.head()"
   ]
  },
  {
   "cell_type": "code",
   "execution_count": null,
   "metadata": {},
   "outputs": [],
   "source": []
  }
 ],
 "metadata": {
  "kernelspec": {
   "display_name": "Python 3.10.8 64-bit",
   "language": "python",
   "name": "python3"
  },
  "language_info": {
   "codemirror_mode": {
    "name": "ipython",
    "version": 3
   },
   "file_extension": ".py",
   "mimetype": "text/x-python",
   "name": "python",
   "nbconvert_exporter": "python",
   "pygments_lexer": "ipython3",
   "version": "3.10.8"
  },
  "orig_nbformat": 4,
  "vscode": {
   "interpreter": {
    "hash": "e7370f93d1d0cde622a1f8e1c04877d8463912d04d973331ad4851f04de6915a"
   }
  }
 },
 "nbformat": 4,
 "nbformat_minor": 2
}
